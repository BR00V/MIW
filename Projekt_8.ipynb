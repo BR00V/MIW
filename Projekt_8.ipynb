{
  "nbformat": 4,
  "nbformat_minor": 0,
  "metadata": {
    "colab": {
      "provenance": [],
      "gpuType": "T4"
    },
    "kernelspec": {
      "name": "python3",
      "display_name": "Python 3"
    },
    "language_info": {
      "name": "python"
    },
    "accelerator": "GPU",
    "gpuClass": "standard"
  },
  "cells": [
    {
      "cell_type": "markdown",
      "metadata": {
        "id": "-R8x3Kjqbrio"
      },
      "source": [
        "# Rozbuduj sieć konwolucyjną z projektu 6 do autokodera, poprzez dodanie symetrycznych warstw *Conv2DTranspose*. Przystosuj sieć do wykorzystania danych mnist (Ręcznie pisane cyfry) oraz by wyjście z encodera, oraz wejście dekodara było 10 elementową tablicą w której jedna wartość jest równa 1 a pozostąłe 0."
      ]
    },
    {
      "cell_type": "code",
      "metadata": {
        "id": "vVVetI02IPcx"
      },
      "source": [
        "import numpy as np\n",
        "import matplotlib.pyplot as plt\n",
        "from keras.datasets import mnist"
      ],
      "execution_count": 2,
      "outputs": []
    },
    {
      "cell_type": "code",
      "metadata": {
        "id": "rV7AGqhTU08y",
        "colab": {
          "base_uri": "https://localhost:8080/"
        },
        "outputId": "ba33fca1-dcbd-4eb6-c3e2-d535ec78786f"
      },
      "source": [
        "(x_train, y_train), (x_test, y_test) = mnist.load_data()\n",
        "x_train = x_train.reshape((60000, 28, 28, 1))\n",
        "x_test = x_test.reshape((10000, 28, 28, 1))\n",
        "x_train = x_train.astype('float32') / 255\n",
        "x_test = x_test.astype('float32') / 255\n",
        "print(x_train.shape)\n",
        "print(x_test.shape)"
      ],
      "execution_count": 3,
      "outputs": [
        {
          "output_type": "stream",
          "name": "stdout",
          "text": [
            "Downloading data from https://storage.googleapis.com/tensorflow/tf-keras-datasets/mnist.npz\n",
            "11490434/11490434 [==============================] - 2s 0us/step\n",
            "(60000, 28, 28, 1)\n",
            "(10000, 28, 28, 1)\n"
          ]
        }
      ]
    },
    {
      "cell_type": "code",
      "source": [
        "import tensorflow\n",
        "import keras\n",
        "import pandas as pd\n",
        "from keras.models import Model, Sequential\n",
        "from keras.layers import Dense, Conv2D, Dropout,UpSampling2D, BatchNormalization, Input, Reshape, Flatten, Conv2DTranspose, MaxPooling2D\n",
        "from keras.optimizers import adam"
      ],
      "metadata": {
        "id": "TJkYtpyqLiA4"
      },
      "execution_count": 4,
      "outputs": []
    },
    {
      "cell_type": "code",
      "source": [
        "# funkcja aktywacji\n",
        "from tensorflow.keras import backend as K\n",
        "\n",
        "def activation_fun(x):\n",
        "    max_prob = K.max(x, axis=1, keepdims=True)\n",
        "    return K.cast(K.equal(x, max_prob), K.floatx())\n",
        "# zupełnie bez sensu"
      ],
      "metadata": {
        "id": "qKOH3J_d7KeZ"
      },
      "execution_count": 5,
      "outputs": []
    },
    {
      "cell_type": "code",
      "metadata": {
        "id": "lFhfi9DTeRLh",
        "colab": {
          "base_uri": "https://localhost:8080/"
        },
        "outputId": "f6aef993-6452-4006-9522-130045e3bcba"
      },
      "source": [
        "# encoder\n",
        "inputs = Input((28,28,1))\n",
        "encoded_11 = Conv2D(256,(3,3), activation='relu', padding = 'same')(inputs)\n",
        "encoded_22 = MaxPooling2D((2,2), padding='same')(encoded_11)\n",
        "encoded_1 = Conv2D(128,(3,3), activation='relu', padding = 'same')(encoded_22)\n",
        "encoded_2 = MaxPooling2D((2,2), padding='same')(encoded_1)\n",
        "encoded_3 = Conv2D(64,(3,3), activation='relu', padding = 'same')(encoded_2)\n",
        "encoded_4 = MaxPooling2D((2,2), padding='same')(encoded_3)\n",
        "encoded_5 = Flatten()(encoded_4)\n",
        "encoded = Dense(10, activation='sigmoid')(encoded_5)\n",
        "# decoder\n",
        "decoded_1 = Dense(np.prod((7,7,1)))(encoded)\n",
        "decoded_11 = Reshape((7,7,1))(decoded_1)\n",
        "decoded_2 = Conv2DTranspose(64,(3,3), strides = 1, activation='relu', padding = 'same')(decoded_11)\n",
        "decoded_3 = UpSampling2D((2, 2))(decoded_2)\n",
        "decoded_4 = Conv2DTranspose(128,(3,3), strides = 2, activation='relu', padding = 'same')(decoded_3)\n",
        "decoded_3 = UpSampling2D((2, 2))(decoded_2)\n",
        "decoded_4 = Conv2DTranspose(256,(3,3), strides = 2, activation='relu', padding = 'same')(decoded_3)\n",
        "decoded = Conv2D(1, (3, 3), activation='sigmoid', padding='same')(decoded_4)\n",
        "\n",
        "auto_encoder = Model(inputs, decoded)\n",
        "opt = keras.optimizers.Adam(learning_rate=0.0001)\n",
        "auto_encoder.compile(loss='binary_crossentropy', optimizer=opt)\n",
        "auto_encoder.summary()\n",
        "# keras.utils.plot_model(auto_encoder, show_shapes=True, dpi=100)\n",
        "\n",
        "# auto_encoder.fit(X_train, X_train, epochs=200)"
      ],
      "execution_count": 40,
      "outputs": [
        {
          "output_type": "stream",
          "name": "stdout",
          "text": [
            "Model: \"model_5\"\n",
            "_________________________________________________________________\n",
            " Layer (type)                Output Shape              Param #   \n",
            "=================================================================\n",
            " input_4 (InputLayer)        [(None, 28, 28, 1)]       0         \n",
            "                                                                 \n",
            " conv2d_12 (Conv2D)          (None, 28, 28, 256)       2560      \n",
            "                                                                 \n",
            " max_pooling2d_9 (MaxPooling  (None, 14, 14, 256)      0         \n",
            " 2D)                                                             \n",
            "                                                                 \n",
            " conv2d_13 (Conv2D)          (None, 14, 14, 128)       295040    \n",
            "                                                                 \n",
            " max_pooling2d_10 (MaxPoolin  (None, 7, 7, 128)        0         \n",
            " g2D)                                                            \n",
            "                                                                 \n",
            " conv2d_14 (Conv2D)          (None, 7, 7, 64)          73792     \n",
            "                                                                 \n",
            " max_pooling2d_11 (MaxPoolin  (None, 4, 4, 64)         0         \n",
            " g2D)                                                            \n",
            "                                                                 \n",
            " flatten_3 (Flatten)         (None, 1024)              0         \n",
            "                                                                 \n",
            " dense_6 (Dense)             (None, 10)                10250     \n",
            "                                                                 \n",
            " dense_7 (Dense)             (None, 49)                539       \n",
            "                                                                 \n",
            " reshape_3 (Reshape)         (None, 7, 7, 1)           0         \n",
            "                                                                 \n",
            " conv2d_transpose_9 (Conv2DT  (None, 7, 7, 64)         640       \n",
            " ranspose)                                                       \n",
            "                                                                 \n",
            " up_sampling2d_7 (UpSampling  (None, 14, 14, 64)       0         \n",
            " 2D)                                                             \n",
            "                                                                 \n",
            " conv2d_transpose_11 (Conv2D  (None, 28, 28, 256)      147712    \n",
            " Transpose)                                                      \n",
            "                                                                 \n",
            " conv2d_15 (Conv2D)          (None, 28, 28, 1)         2305      \n",
            "                                                                 \n",
            "=================================================================\n",
            "Total params: 532,838\n",
            "Trainable params: 532,838\n",
            "Non-trainable params: 0\n",
            "_________________________________________________________________\n"
          ]
        }
      ]
    },
    {
      "cell_type": "markdown",
      "source": [
        "# Wytrenuj model używając jedynie danych wejściowych, wyjście modelu równa się jego wejściu.\n"
      ],
      "metadata": {
        "id": "zKl5Wj4BevxI"
      }
    },
    {
      "cell_type": "code",
      "source": [
        "auto_encoder.fit(x_train, x_train, epochs=8, batch_size=100)"
      ],
      "metadata": {
        "colab": {
          "base_uri": "https://localhost:8080/"
        },
        "id": "qKAhtvISeIpx",
        "outputId": "a4f5b480-602f-4a66-8c56-62e25258267b"
      },
      "execution_count": 41,
      "outputs": [
        {
          "output_type": "stream",
          "name": "stdout",
          "text": [
            "Epoch 1/8\n",
            "600/600 [==============================] - 19s 31ms/step - loss: 0.3443\n",
            "Epoch 2/8\n",
            "600/600 [==============================] - 19s 32ms/step - loss: 0.2645\n",
            "Epoch 3/8\n",
            "600/600 [==============================] - 19s 32ms/step - loss: 0.2392\n",
            "Epoch 4/8\n",
            "600/600 [==============================] - 19s 31ms/step - loss: 0.2051\n",
            "Epoch 5/8\n",
            "600/600 [==============================] - 19s 32ms/step - loss: 0.1879\n",
            "Epoch 6/8\n",
            "600/600 [==============================] - 19s 32ms/step - loss: 0.1792\n",
            "Epoch 7/8\n",
            "600/600 [==============================] - 19s 32ms/step - loss: 0.1717\n",
            "Epoch 8/8\n",
            "600/600 [==============================] - 19s 32ms/step - loss: 0.1643\n"
          ]
        },
        {
          "output_type": "execute_result",
          "data": {
            "text/plain": [
              "<keras.callbacks.History at 0x7faf3d66b2b0>"
            ]
          },
          "metadata": {},
          "execution_count": 41
        }
      ]
    },
    {
      "cell_type": "markdown",
      "metadata": {
        "id": "9wZ9Qun0dqc9"
      },
      "source": [
        "# Zaprezentuj na danych testowych jak wyglądają dane wejściowe, dane zwrócone przez encoder i dane wyjściowe."
      ]
    },
    {
      "cell_type": "code",
      "metadata": {
        "id": "ugzTJRryeQqH",
        "colab": {
          "base_uri": "https://localhost:8080/"
        },
        "outputId": "c508995f-2304-4547-f87d-fed6eca4bbbc"
      },
      "source": [
        "pred = auto_encoder.predict(x_test, verbose=1)"
      ],
      "execution_count": 42,
      "outputs": [
        {
          "output_type": "stream",
          "name": "stdout",
          "text": [
            "313/313 [==============================] - 2s 5ms/step\n"
          ]
        }
      ]
    },
    {
      "cell_type": "code",
      "source": [
        "plt.imshow(x_test[0])"
      ],
      "metadata": {
        "colab": {
          "base_uri": "https://localhost:8080/",
          "height": 447
        },
        "id": "MDuQxCdWzIZX",
        "outputId": "b5f87de4-0ec7-4c99-e5f0-f2c623745d7e"
      },
      "execution_count": 43,
      "outputs": [
        {
          "output_type": "execute_result",
          "data": {
            "text/plain": [
              "<matplotlib.image.AxesImage at 0x7faf3d4391e0>"
            ]
          },
          "metadata": {},
          "execution_count": 43
        },
        {
          "output_type": "display_data",
          "data": {
            "text/plain": [
              "<Figure size 640x480 with 1 Axes>"
            ],
            "image/png": "[encoded data removed]"
          },
          "metadata": {}
        }
      ]
    },
    {
      "cell_type": "code",
      "source": [
        "x =pred[0].reshape(28,28)\n",
        "plt.imshow(x)"
      ],
      "metadata": {
        "colab": {
          "base_uri": "https://localhost:8080/",
          "height": 447
        },
        "id": "VcjE42Q-zKtB",
        "outputId": "3a022a7f-c075-4427-909a-201b61d44f7e"
      },
      "execution_count": 44,
      "outputs": [
        {
          "output_type": "execute_result",
          "data": {
            "text/plain": [
              "<matplotlib.image.AxesImage at 0x7faf3d4a0730>"
            ]
          },
          "metadata": {},
          "execution_count": 44
        },
        {
          "output_type": "display_data",
          "data": {
            "text/plain": [
              "<Figure size 640x480 with 1 Axes>"
            ],
            "image/png": "[encoded data removed]"
          },
          "metadata": {}
        }
      ]
    },
    {
      "cell_type": "markdown",
      "source": [
        "# Odziel model encodera i sprawdź co oznaczają parametry wyjściowe. Czy obrazy zostały sklasyfikowane zgodnie z tym co pokazują?\n"
      ],
      "metadata": {
        "id": "71xX6rCXw-yi"
      }
    },
    {
      "cell_type": "code",
      "source": [
        "# auto_encoder.save('autoencoder.hdf5')\n",
        "# autoencoder= keras.models.load_model('autoencoder.hdf5')"
      ],
      "metadata": {
        "id": "LmQJrUcXxZPQ"
      },
      "execution_count": 46,
      "outputs": []
    },
    {
      "cell_type": "code",
      "source": [
        "# oddzielanie encodera\n",
        "encoder = Model(auto_encoder.input, auto_encoder.layers[-7].output)"
      ],
      "metadata": {
        "id": "3vpVncIf0J00"
      },
      "execution_count": 47,
      "outputs": []
    },
    {
      "cell_type": "code",
      "source": [
        "encoder.summary()"
      ],
      "metadata": {
        "colab": {
          "base_uri": "https://localhost:8080/"
        },
        "id": "vt_ictmV0nP8",
        "outputId": "54257125-2d85-4663-8581-386e41f487f2"
      },
      "execution_count": 48,
      "outputs": [
        {
          "output_type": "stream",
          "name": "stdout",
          "text": [
            "Model: \"model_6\"\n",
            "_________________________________________________________________\n",
            " Layer (type)                Output Shape              Param #   \n",
            "=================================================================\n",
            " input_4 (InputLayer)        [(None, 28, 28, 1)]       0         \n",
            "                                                                 \n",
            " conv2d_12 (Conv2D)          (None, 28, 28, 256)       2560      \n",
            "                                                                 \n",
            " max_pooling2d_9 (MaxPooling  (None, 14, 14, 256)      0         \n",
            " 2D)                                                             \n",
            "                                                                 \n",
            " conv2d_13 (Conv2D)          (None, 14, 14, 128)       295040    \n",
            "                                                                 \n",
            " max_pooling2d_10 (MaxPoolin  (None, 7, 7, 128)        0         \n",
            " g2D)                                                            \n",
            "                                                                 \n",
            " conv2d_14 (Conv2D)          (None, 7, 7, 64)          73792     \n",
            "                                                                 \n",
            " max_pooling2d_11 (MaxPoolin  (None, 4, 4, 64)         0         \n",
            " g2D)                                                            \n",
            "                                                                 \n",
            " flatten_3 (Flatten)         (None, 1024)              0         \n",
            "                                                                 \n",
            " dense_6 (Dense)             (None, 10)                10250     \n",
            "                                                                 \n",
            "=================================================================\n",
            "Total params: 381,642\n",
            "Trainable params: 381,642\n",
            "Non-trainable params: 0\n",
            "_________________________________________________________________\n"
          ]
        }
      ]
    },
    {
      "cell_type": "code",
      "source": [
        "pred_1 = encoder.predict(x_test, verbose=1)"
      ],
      "metadata": {
        "colab": {
          "base_uri": "https://localhost:8080/"
        },
        "id": "7saJ75aR0tZY",
        "outputId": "0020a491-e5fb-412e-d98d-b5f149ccebac"
      },
      "execution_count": 49,
      "outputs": [
        {
          "output_type": "stream",
          "name": "stdout",
          "text": [
            "313/313 [==============================] - 1s 2ms/step\n"
          ]
        }
      ]
    },
    {
      "cell_type": "code",
      "source": [
        "pred_1[0]"
      ],
      "metadata": {
        "colab": {
          "base_uri": "https://localhost:8080/"
        },
        "id": "syh5BYtd06VM",
        "outputId": "e4e61703-37bc-4f83-c27d-43ec55dd3d36"
      },
      "execution_count": 50,
      "outputs": [
        {
          "output_type": "execute_result",
          "data": {
            "text/plain": [
              "array([0.4638951 , 0.79270613, 0.7419421 , 0.10400393, 0.29844278,\n",
              "       0.9999994 , 0.44710684, 0.10394688, 0.5425581 , 0.8367498 ],\n",
              "      dtype=float32)"
            ]
          },
          "metadata": {},
          "execution_count": 50
        }
      ]
    },
    {
      "cell_type": "code",
      "source": [
        "x =pred[1].reshape(28,28)\n",
        "plt.imshow(x)\n",
        "index = np.argmin(pred_1[1])\n",
        "print('predicted class: ', index)\n",
        "print('real class: ', y_test[1])\n"
      ],
      "metadata": {
        "colab": {
          "base_uri": "https://localhost:8080/",
          "height": 465
        },
        "id": "zm4L5EwOGc5o",
        "outputId": "09c14860-5070-4417-8a7b-9a1c5354bfd0"
      },
      "execution_count": 53,
      "outputs": [
        {
          "output_type": "stream",
          "name": "stdout",
          "text": [
            "predicted class:  2\n",
            "real class:  2\n"
          ]
        },
        {
          "output_type": "display_data",
          "data": {
            "text/plain": [
              "<Figure size 640x480 with 1 Axes>"
            ],
            "image/png": "[encoded data removed]"
          },
          "metadata": {}
        }
      ]
    },
    {
      "cell_type": "code",
      "source": [],
      "metadata": {
        "id": "TRPwYDhMHtUn"
      },
      "execution_count": null,
      "outputs": []
    }
  ]
}