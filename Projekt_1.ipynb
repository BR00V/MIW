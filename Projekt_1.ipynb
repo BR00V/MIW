{
  "cells": [
    {
      "cell_type": "code",
      "execution_count": 5,
      "metadata": {
        "colab": {
          "base_uri": "https://localhost:8080/",
          "height": 165
        },
        "id": "ijcgT09N1J7F",
        "outputId": "c84fbfa2-43a9-4744-a59c-1994ef5d8f3a"
      },
      "outputs": [],
      "source": [
        "#np.random.choice(['ala','ma','kota'], p=[0.1,0.1,0.8])"
      ]
    },
    {
      "cell_type": "markdown",
      "metadata": {
        "id": "D9OjkmUsObVU"
      },
      "source": [
        "#Projekt 1\n",
        "##1. Napisz program, uczący się gry “papier, kamień, nożyce”. Jako algorytm uczący zastosuj łańcuch Markowa z macierzą przejść pomiędzy trzema stanami (Papier, Kamień, Nożyce). Nauka gry polega na korekcie macierzy przejść (prawdopodobieństwa warunkowe zmiany stanu),\n",
        "##2. Wartość wypłaty: 1 w przypadku wygranej, −1 w przypadku przegranej i 0 w przypadku remisu,\n",
        "##3. Przeprowadź ciąg kilkudziesięciu gier “kamień, papier, nożyce”. Sporząź wykres jak zmienia się stan kasy w każdym kroku gry."
      ]
    },
    {
      "cell_type": "code",
      "execution_count": 6,
      "metadata": {
        "id": "B6dLgPl4Yj4x"
      },
      "outputs": [],
      "source": [
        "import numpy as np"
      ]
    },
    {
      "cell_type": "code",
      "execution_count": 16,
      "metadata": {},
      "outputs": [
        {
          "name": "stdout",
          "output_type": "stream",
          "text": [
            "[[1. 1. 1.]\n",
            " [1. 1. 1.]\n",
            " [1. 1. 1.]]\n",
            "This is a game of Rock, Paper, Scissors\n",
            "Exit\n"
          ]
        }
      ],
      "source": [
        "matrix = np.ones((3,3))\n",
        "\n",
        "print (matrix)\n",
        "\n",
        "print ('This is a game of Rock, Paper, Scissors')\n",
        "\n",
        "def rock():\n",
        "    prevDec=0\n",
        "\n",
        "def paper():\n",
        "    prevDec=1\n",
        "\n",
        "def scissors():\n",
        "    prevDec=2\n",
        "\n",
        "options = {\n",
        "    \"R\": rock(),\n",
        "    \"P\": paper(),\n",
        "    \"S\": scissors()}\n",
        "\n",
        "iter = 1\n",
        "prevDec = 0\n",
        "lastRound = ''\n",
        "while (decision != \"EXIT\"):\n",
        "\n",
        "    decision = input('this is game nr.' + iter.__str__() + ' input \"r\" - for Rock \\n \"p\"- for Paper \\n \"s\" for Scissors \\n You can also stop playing The Game by inputing \"exit\"')\n",
        "\n",
        "    decision=decision.capitalize()\n",
        "    print(decision)\n",
        "\n",
        "    if (lastRound in options):\n",
        "        options[lastRound]()\n",
        "    \n",
        "    row_sums = matrix.sum(axis=1)\n",
        "    \n",
        "    rproc=matrix[prevDec][0] / row_sums[prevDec]\n",
        "    pproc=matrix[prevDec][1] / row_sums[prevDec]\n",
        "    sproc=matrix[prevDec][2] / row_sums[prevDec]\n",
        "    np.random.choice(['Rock','Paper','Scissors'], p=[rproc,pproc,sproc])\n",
        "\n",
        "    lastRound=decision\n",
        "    print()\n",
        "\n",
        "\n",
        "\n"
      ]
    },
    {
      "cell_type": "code",
      "execution_count": 22,
      "metadata": {},
      "outputs": [
        {
          "name": "stdout",
          "output_type": "stream",
          "text": [
            "4\n"
          ]
        }
      ],
      "source": [
        "import numpy as np\n",
        "\n",
        "# create a 3x3 matrix\n",
        "matrix = np.array([[1, 2, 3], [4, 5, 6], [7, 8, 9]])\n",
        "\n",
        "# sum all rows\n",
        "row_sums = matrix.sum(axis=1)\n",
        "\n",
        "print(matrix[1][0] )"
      ]
    }
  ],
  "metadata": {
    "colab": {
      "provenance": []
    },
    "kernelspec": {
      "display_name": "Python 3.9.12 ('base')",
      "language": "python",
      "name": "python3"
    },
    "language_info": {
      "codemirror_mode": {
        "name": "ipython",
        "version": 3
      },
      "file_extension": ".py",
      "mimetype": "text/x-python",
      "name": "python",
      "nbconvert_exporter": "python",
      "pygments_lexer": "ipython3",
      "version": "3.9.12"
    },
    "vscode": {
      "interpreter": {
        "hash": "ad2bdc8ecc057115af97d19610ffacc2b4e99fae6737bb82f5d7fb13d2f2c186"
      }
    }
  },
  "nbformat": 4,
  "nbformat_minor": 0
}
